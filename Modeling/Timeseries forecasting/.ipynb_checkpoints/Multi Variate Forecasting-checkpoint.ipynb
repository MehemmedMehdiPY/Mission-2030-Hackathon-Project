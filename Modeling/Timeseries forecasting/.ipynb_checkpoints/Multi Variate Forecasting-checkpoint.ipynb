{
 "cells": [
  {
   "cell_type": "code",
   "execution_count": 7,
   "id": "09e0f46d",
   "metadata": {},
   "outputs": [],
   "source": [
    "import torch\n",
    "from torch import nn"
   ]
  },
  {
   "cell_type": "code",
   "execution_count": 8,
   "id": "ba07d7b8",
   "metadata": {},
   "outputs": [],
   "source": [
    "lookback = 24"
   ]
  },
  {
   "cell_type": "code",
   "execution_count": 9,
   "id": "0b98c556",
   "metadata": {},
   "outputs": [],
   "source": [
    "class TimeseriesForecaster(nn.Module):\n",
    "    def __init__(self, feature = 32):\n",
    "        super().__init__()\n",
    "        \n",
    "        self.lstm1 = nn.LSTM(input_size = lookback, hidden_size = feature, num_layers = 2)\n",
    "        self.fc1 = nn.Linear(feature, 128)\n",
    "        self.fc2 = nn.Linear(128, 64)\n",
    "        self.fc3 = nn.Linear(64, 16)\n",
    "        self.fc4 = nn.Linear(16, 1)\n",
    "        self.relu = nn.ReLU()\n",
    "        \n",
    "    def forward(self, x):\n",
    "        x = self.relu(self.lstm1(x)[0])\n",
    "        x = self.relu(self.fc1(x))\n",
    "        x = self.relu(self.fc2(x))\n",
    "        x = self.relu(self.fc3(x))\n",
    "        x = self.fc4(x)\n",
    "        return x"
   ]
  },
  {
   "cell_type": "code",
   "execution_count": 10,
   "id": "85287250",
   "metadata": {},
   "outputs": [],
   "source": [
    "model = TimeseriesForecaster().to('cpu')"
   ]
  },
  {
   "cell_type": "code",
   "execution_count": null,
   "id": "e1cddac8",
   "metadata": {},
   "outputs": [],
   "source": []
  },
  {
   "cell_type": "code",
   "execution_count": 12,
   "id": "7d1b068c",
   "metadata": {},
   "outputs": [],
   "source": [
    "state_dict = torch.load('../models/LSTM')"
   ]
  },
  {
   "cell_type": "code",
   "execution_count": 13,
   "id": "ecc924d4",
   "metadata": {},
   "outputs": [
    {
     "data": {
      "text/plain": [
       "<All keys matched successfully>"
      ]
     },
     "execution_count": 13,
     "metadata": {},
     "output_type": "execute_result"
    }
   ],
   "source": [
    "model.load_state_dict(state_dict)"
   ]
  },
  {
   "cell_type": "code",
   "execution_count": null,
   "id": "f2233eaa",
   "metadata": {},
   "outputs": [],
   "source": []
  }
 ],
 "metadata": {
  "kernelspec": {
   "display_name": "Python 3 (ipykernel)",
   "language": "python",
   "name": "python3"
  },
  "language_info": {
   "codemirror_mode": {
    "name": "ipython",
    "version": 3
   },
   "file_extension": ".py",
   "mimetype": "text/x-python",
   "name": "python",
   "nbconvert_exporter": "python",
   "pygments_lexer": "ipython3",
   "version": "3.10.7"
  }
 },
 "nbformat": 4,
 "nbformat_minor": 5
}
