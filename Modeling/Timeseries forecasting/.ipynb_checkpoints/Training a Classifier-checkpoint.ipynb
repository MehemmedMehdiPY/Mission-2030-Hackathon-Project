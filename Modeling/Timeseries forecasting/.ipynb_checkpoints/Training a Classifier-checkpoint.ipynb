{
 "cells": [
  {
   "cell_type": "code",
   "execution_count": 2,
   "id": "fe7cc323",
   "metadata": {},
   "outputs": [],
   "source": [
    "import torch\n",
    "from torch.utils.data import DataLoader\n",
    "from torchvision import datasets\n",
    "import torchvision.transforms as transforms\n",
    "import matplotlib.pyplot as plt"
   ]
  },
  {
   "cell_type": "code",
   "execution_count": 3,
   "id": "182c9f35",
   "metadata": {},
   "outputs": [],
   "source": [
    "transform = transforms.Compose(\n",
    "    [transforms.ToTensor(),\n",
    "     transforms.Normalize((0.5, 0.5, 0.5), (0.5, 0.5, 0.5))])\n",
    "\n",
    "target_transform = transforms.Lambda(lambda y: torch.zeros(10).scatter_(\n",
    "                                 dim = 0, index = torch.tensor(y), src = torch.tensor(1.0)))\n"
   ]
  },
  {
   "cell_type": "code",
   "execution_count": 4,
   "id": "7b5849e7",
   "metadata": {},
   "outputs": [],
   "source": [
    "DOWNLOAD = False\n",
    "BATCH_SIZE = 4\n",
    "DEVICE = 'cpu'"
   ]
  },
  {
   "cell_type": "code",
   "execution_count": 29,
   "id": "f460bd30",
   "metadata": {},
   "outputs": [],
   "source": [
    "trainset = datasets.CIFAR10(root='../data', train=True,\n",
    "                                        download=False, transform=transform, \n",
    "                           target_transform = target_transform)\n",
    "\n",
    "testset = datasets.CIFAR10(root='../data', train=False,\n",
    "                                       download=False, transform=transform, \n",
    "                           target_transform = target_transform)"
   ]
  },
  {
   "cell_type": "code",
   "execution_count": 30,
   "id": "e065d13e",
   "metadata": {},
   "outputs": [
    {
     "data": {
      "text/plain": [
       "['airplane',\n",
       " 'automobile',\n",
       " 'bird',\n",
       " 'cat',\n",
       " 'deer',\n",
       " 'dog',\n",
       " 'frog',\n",
       " 'horse',\n",
       " 'ship',\n",
       " 'truck']"
      ]
     },
     "execution_count": 30,
     "metadata": {},
     "output_type": "execute_result"
    }
   ],
   "source": [
    "trainset.classes"
   ]
  },
  {
   "cell_type": "code",
   "execution_count": 18,
   "id": "05c667c6",
   "metadata": {},
   "outputs": [],
   "source": [
    "trainloader = torch.utils.data.DataLoader(trainset, batch_size=BATCH_SIZE,\n",
    "                                          shuffle=True, num_workers=2)\n",
    "testloader = torch.utils.data.DataLoader(testset, batch_size=BATCH_SIZE,\n",
    "                                         shuffle=False, num_workers=2)\n",
    "\n",
    "classes = ('plane', 'car', 'bird', 'cat',\n",
    "           'deer', 'dog', 'frog', 'horse', 'ship', 'truck')"
   ]
  },
  {
   "cell_type": "code",
   "execution_count": 16,
   "id": "d3e406aa",
   "metadata": {},
   "outputs": [],
   "source": [
    "def show_img(imgs, label):\n",
    "    fig = plt.figure(figsize = (8, 8))\n",
    "    for i, (img, label) in enumerate(zip(imgs, label), start = 1):\n",
    "        img = img.numpy()\n",
    "        img = img / 2 + 0.5\n",
    "        img = img.transpose([1, 2, 0])\n",
    "        fig.add_subplot(2, 2, i)\n",
    "        plt.imshow(img)\n",
    "        plt.title(classes[label.argmax()].capitalize())\n",
    "        plt.axis('off')\n",
    "        "
   ]
  },
  {
   "cell_type": "code",
   "execution_count": 19,
   "id": "07973b67",
   "metadata": {},
   "outputs": [
    {
     "data": {
      "image/png": "[encoded data removed]",
      "text/plain": [
       "<Figure size 800x800 with 4 Axes>"
      ]
     },
     "metadata": {},
     "output_type": "display_data"
    }
   ],
   "source": [
    "dataiter = iter(trainloader)\n",
    "X, y = next(dataiter)\n",
    "show_img(X, y)"
   ]
  },
  {
   "cell_type": "code",
   "execution_count": 20,
   "id": "0a14d0e0",
   "metadata": {},
   "outputs": [],
   "source": [
    "import torch.nn as nn\n",
    "import torch.nn.functional as F"
   ]
  },
  {
   "cell_type": "code",
   "execution_count": 21,
   "id": "ea05d030",
   "metadata": {},
   "outputs": [],
   "source": [
    "class Net(nn.Module):\n",
    "    def __init__(self):\n",
    "        super().__init__()\n",
    "        self.conv1 = nn.Conv2d(3, 6, 5)\n",
    "        self.pool1 = nn.MaxPool2d(2, 2)\n",
    "        self.conv2 = nn.Conv2d(6, 16, 5)\n",
    "        self.pool2 = nn.MaxPool2d(2, 2)\n",
    "        \n",
    "        self.norm1 = nn.BatchNorm1d(5 * 5 * 16)\n",
    "        \n",
    "        self.fc1 = nn.Linear(5 * 5 * 16, 120)\n",
    "        self.fc2 = nn.Linear(120, 84)\n",
    "        \n",
    "        self.norm2 = nn.BatchNorm1d(84)\n",
    "        \n",
    "        self.fc3 = nn.Linear(84, 10)\n",
    "       \n",
    "        self.softmax = nn.Softmax(-1)\n",
    "        \n",
    "    def forward(self, x):\n",
    "        x = self.pool1(F.relu(self.conv1(x)))\n",
    "        x = self.pool2(F.relu(self.conv2(x)))\n",
    "        x = torch.flatten(x, 1)\n",
    "#         x = self.norm1(x)\n",
    "        \n",
    "        x = F.relu(self.fc1(x))\n",
    "        x = F.relu(self.fc2(x))\n",
    "#         x = self.norm2(x)\n",
    "        \n",
    "        x = self.fc3(x)\n",
    "        \n",
    "        return x\n"
   ]
  },
  {
   "cell_type": "code",
   "execution_count": 23,
   "id": "75cb6279",
   "metadata": {},
   "outputs": [],
   "source": [
    "model = Net().to(DEVICE)"
   ]
  },
  {
   "cell_type": "code",
   "execution_count": 24,
   "id": "7c3cdd57",
   "metadata": {},
   "outputs": [
    {
     "data": {
      "text/plain": [
       "Net(\n",
       "  (conv1): Conv2d(3, 6, kernel_size=(5, 5), stride=(1, 1))\n",
       "  (pool1): MaxPool2d(kernel_size=2, stride=2, padding=0, dilation=1, ceil_mode=False)\n",
       "  (conv2): Conv2d(6, 16, kernel_size=(5, 5), stride=(1, 1))\n",
       "  (pool2): MaxPool2d(kernel_size=2, stride=2, padding=0, dilation=1, ceil_mode=False)\n",
       "  (norm1): BatchNorm1d(400, eps=1e-05, momentum=0.1, affine=True, track_running_stats=True)\n",
       "  (fc1): Linear(in_features=400, out_features=120, bias=True)\n",
       "  (fc2): Linear(in_features=120, out_features=84, bias=True)\n",
       "  (norm2): BatchNorm1d(84, eps=1e-05, momentum=0.1, affine=True, track_running_stats=True)\n",
       "  (fc3): Linear(in_features=84, out_features=10, bias=True)\n",
       "  (softmax): Softmax(dim=-1)\n",
       ")"
      ]
     },
     "execution_count": 24,
     "metadata": {},
     "output_type": "execute_result"
    }
   ],
   "source": [
    "model"
   ]
  },
  {
   "cell_type": "code",
   "execution_count": 25,
   "id": "17ae4314",
   "metadata": {},
   "outputs": [],
   "source": [
    "import torch.optim as optim\n",
    "\n",
    "loss_fn = nn.CrossEntropyLoss()\n",
    "optimizer = optim.SGD(model.parameters(), lr=0.001, momentum=0.9)"
   ]
  },
  {
   "cell_type": "code",
   "execution_count": 26,
   "id": "2ac889d0",
   "metadata": {},
   "outputs": [],
   "source": [
    "def train(model, trainloader, optimizer, loss_fn):\n",
    "    model.train()\n",
    "    m = 2500\n",
    "    n = len(trainloader)\n",
    "    train_loss = 0\n",
    "    total_train_loss = 0\n",
    "    \n",
    "    for i, (X, y) in enumerate(trainloader):\n",
    "        optimizer.zero_grad()\n",
    "        pred = model(X)\n",
    "        loss = loss_fn(pred, y)\n",
    "        loss.backward()\n",
    "        optimizer.step()\n",
    "        train_loss += loss.item()\n",
    "\n",
    "        if i % m == m - 1:\n",
    "            print('{} Epoch --> {}/{} with loss of {:.3f}'.format(\n",
    "                    epoch + 1, i + 1, n, train_loss / m \n",
    "                    ))\n",
    "            total_train_loss += train_loss\n",
    "            train_loss = 0\n",
    "            \n",
    "    return total_train_loss / n\n",
    "            \n",
    "def evaluate(model, testloader, loss_fn):\n",
    "    model.eval()\n",
    "    n = len(testloader)\n",
    "    total_test_loss = 0\n",
    "    \n",
    "    for X, y in testloader:\n",
    "        pred = model(X)\n",
    "        loss = loss_fn(pred, y)\n",
    "        total_test_loss += loss.item()\n",
    "        \n",
    "    return total_test_loss / n"
   ]
  },
  {
   "cell_type": "code",
   "execution_count": 28,
   "id": "1736232e",
   "metadata": {
    "scrolled": true
   },
   "outputs": [
    {
     "name": "stdout",
     "output_type": "stream",
     "text": [
      "--------------------------------------------------\n",
      "1 Epoch --> 2500/12500 with loss of 2.078\n",
      "1 Epoch --> 5000/12500 with loss of 1.733\n",
      "1 Epoch --> 7500/12500 with loss of 1.599\n",
      "1 Epoch --> 10000/12500 with loss of 1.525\n",
      "1 Epoch --> 12500/12500 with loss of 1.459\n",
      "\n",
      "Average train loss error --> 1.679\n",
      "Average test loss error --> 1.414\n",
      "\n",
      "--------------------------------------------------\n",
      "2 Epoch --> 2500/12500 with loss of 1.396\n",
      "2 Epoch --> 5000/12500 with loss of 1.341\n",
      "2 Epoch --> 7500/12500 with loss of 1.328\n",
      "2 Epoch --> 10000/12500 with loss of 1.302\n",
      "2 Epoch --> 12500/12500 with loss of 1.248\n",
      "\n",
      "Average train loss error --> 1.323\n",
      "Average test loss error --> 1.253\n",
      "\n"
     ]
    }
   ],
   "source": [
    "n = len(trainloader)\n",
    "m = 2500\n",
    "epochs = 2\n",
    "\n",
    "for epoch in range(epochs):\n",
    "    print('-' * 50)\n",
    "    train_loss = train(model, trainloader, optimizer, loss_fn)\n",
    "    print('\\nAverage train loss error --> {:.3f}'.format(train_loss))\n",
    "    \n",
    "    test_loss = evaluate(model, testloader, loss_fn)\n",
    "    print('Average test loss error --> {:.3f}\\n'.format(test_loss))\n",
    "    "
   ]
  },
  {
   "cell_type": "code",
   "execution_count": null,
   "id": "4114c08c",
   "metadata": {},
   "outputs": [],
   "source": [
    "n = len(trainloader)\n",
    "m = 2500\n",
    "epochs = 4\n",
    "\n",
    "for epoch in range(epochs):\n",
    "    print('-' * 50)\n",
    "    train_loss = train(model, trainloader, optimizer, loss_fn)\n",
    "    print('\\nAverage train loss error --> {:.3f}'.format(train_loss))\n",
    "    \n",
    "    test_loss = evaluate(model, testloader, loss_fn)\n",
    "    print('Average test loss error --> {:.3f}\\n'.format(test_loss))\n",
    "    "
   ]
  },
  {
   "cell_type": "code",
   "execution_count": null,
   "id": "d63f349a",
   "metadata": {},
   "outputs": [],
   "source": [
    "n = len(trainloader)\n",
    "m = 2500\n",
    "epochs = 1\n",
    "\n",
    "for epoch in range(epochs):\n",
    "    print('-' * 50)\n",
    "    train_loss = train(model, trainloader, optimizer, loss_fn)\n",
    "    print('\\nAverage train loss error --> {:.3f}'.format(train_loss))\n",
    "    \n",
    "    test_loss = evaluate(model, testloader, loss_fn)\n",
    "    print('Average test loss error --> {:.3f}\\n'.format(test_loss))\n",
    "    "
   ]
  },
  {
   "cell_type": "code",
   "execution_count": 14,
   "id": "e3d246f0",
   "metadata": {},
   "outputs": [
    {
     "name": "stdout",
     "output_type": "stream",
     "text": [
      "Kanan is working at gym\n"
     ]
    }
   ],
   "source": [
    "print('Kanan is working at gym')"
   ]
  },
  {
   "cell_type": "code",
   "execution_count": null,
   "id": "82e57239",
   "metadata": {},
   "outputs": [],
   "source": []
  },
  {
   "cell_type": "code",
   "execution_count": null,
   "id": "1f01c816",
   "metadata": {},
   "outputs": [],
   "source": []
  },
  {
   "cell_type": "code",
   "execution_count": null,
   "id": "21813478",
   "metadata": {},
   "outputs": [],
   "source": []
  }
 ],
 "metadata": {
  "kernelspec": {
   "display_name": "Python 3 (ipykernel)",
   "language": "python",
   "name": "python3"
  },
  "language_info": {
   "codemirror_mode": {
    "name": "ipython",
    "version": 3
   },
   "file_extension": ".py",
   "mimetype": "text/x-python",
   "name": "python",
   "nbconvert_exporter": "python",
   "pygments_lexer": "ipython3",
   "version": "3.10.7"
  }
 },
 "nbformat": 4,
 "nbformat_minor": 5
}
